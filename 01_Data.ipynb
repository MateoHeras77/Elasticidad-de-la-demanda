{
 "cells": [
  {
   "cell_type": "code",
   "execution_count": 11,
   "metadata": {},
   "outputs": [],
   "source": [
    "import mysql.connector\n",
    "import pandas as pd\n",
    "import numpy as np\n",
    "import statsmodels.api as sm\n"
   ]
  },
  {
   "cell_type": "code",
   "execution_count": 19,
   "metadata": {},
   "outputs": [],
   "source": [
    "# Conectar a la base de datos MySQL\n",
    "db_connection = mysql.connector.connect(\n",
    "    host=\"localhost\",  # Dirección del servidor, si es remoto usa la IP o URL\n",
    "    user=\"root\",  # Tu nombre de usuario en MySQL\n",
    "    password=\"Y26CIYuzhveqKf\",  # Tu contraseña en MySQL\n",
    "    database=\"classicmodels\"  # El nombre de tu base de datos\n",
    ")\n",
    "\n",
    "# Crear un cursor para ejecutar las consultas\n",
    "cursor = db_connection.cursor()\n"
   ]
  },
  {
   "cell_type": "code",
   "execution_count": null,
   "metadata": {},
   "outputs": [],
   "source": [
    "\n",
    "# Crear un cursor para ejecutar las consultas\n",
    "cursor = db_connection.cursor()\n",
    "\n",
    "# Ejecutar la consulta SELECT\n",
    "query = \"\"\"\n",
    "SELECT *\n",
    "FROM orderdetails\n",
    "JOIN products ON products.productCode = orderdetails.productCode;\n",
    "\"\"\"\n",
    "cursor.execute(query)\n",
    "\n",
    "# Obtener los resultados\n",
    "results = cursor.fetchall()\n",
    "\n",
    "# Obtener los nombres de las columnas (opcional)\n",
    "columns = [column[0] for column in cursor.description]\n",
    "\n",
    "# Convertir los resultados en un DataFrame de pandas\n",
    "df_sql = pd.DataFrame(results, columns=columns)\n",
    "\n",
    "# Mostrar el DataFrame\n",
    "df_sql.head()\n",
    "\n",
    "# Cerrar la conexión\n",
    "cursor.close()\n",
    "db_connection.close()"
   ]
  },
  {
   "cell_type": "code",
   "execution_count": null,
   "metadata": {},
   "outputs": [],
   "source": [
    "df_sql.to_csv('data.csv', index=False)"
   ]
  },
  {
   "cell_type": "code",
   "execution_count": 23,
   "metadata": {},
   "outputs": [],
   "source": [
    "df=pd.read_csv('data.csv')"
   ]
  },
  {
   "cell_type": "markdown",
   "metadata": {},
   "source": [
    "# Data Simulada"
   ]
  },
  {
   "cell_type": "code",
   "execution_count": 1,
   "metadata": {},
   "outputs": [
    {
     "name": "stdout",
     "output_type": "stream",
     "text": [
      "   quantityOrdered  priceEach   productLine\n",
      "0              271      84.72  Herramientas\n",
      "1              147     270.04       Muebles\n",
      "2              531      32.31      Juguetes\n",
      "3              768      26.73          Ropa\n",
      "4             2356      31.74          Ropa\n"
     ]
    }
   ],
   "source": [
    "import pandas as pd\n",
    "import random\n",
    "import numpy as np\n",
    "\n",
    "# Definir las líneas de productos y sus precios promedio\n",
    "product_lines = ['Tecnología', 'Electrodomésticos', 'Muebles', 'Ropa', 'Juguetes', 'Herramientas']\n",
    "avg_prices = {\n",
    "    'Tecnología': 500,     # Precio promedio para tecnología (más caro)\n",
    "    'Electrodomésticos': 150,\n",
    "    'Muebles': 300,\n",
    "    'Ropa': 30,            # Ropa es más barata\n",
    "    'Juguetes': 40,\n",
    "    'Herramientas': 80\n",
    "}\n",
    "\n",
    "# Definir el rango de cantidades pedidas basado en la línea de producto\n",
    "quantity_ranges = {\n",
    "    'Tecnología': (50, 200),      # Menor demanda, pero artículos caros\n",
    "    'Electrodomésticos': (100, 500),\n",
    "    'Muebles': (80, 300),\n",
    "    'Ropa': (500, 3000),          # Gran demanda por ser barato\n",
    "    'Juguetes': (200, 1000),\n",
    "    'Herramientas': (100, 700)\n",
    "}\n",
    "\n",
    "# Función para simular los datos\n",
    "def generate_data(num_records=100):\n",
    "    data = []\n",
    "    \n",
    "    for _ in range(num_records):\n",
    "        # Elegir una línea de producto aleatoria\n",
    "        product_line = random.choice(product_lines)\n",
    "        \n",
    "        # Determinar la cantidad pedida dentro del rango de la línea de producto\n",
    "        quantity_ordered = random.randint(*quantity_ranges[product_line])\n",
    "        \n",
    "        # Obtener el precio promedio de esa línea de producto y agregar una variabilidad\n",
    "        price_each = avg_prices[product_line] * np.random.uniform(0.8, 1.2)\n",
    "        \n",
    "        # Agregar los datos al listado\n",
    "        data.append([quantity_ordered, round(price_each, 2), product_line])\n",
    "    \n",
    "    # Crear un DataFrame con los datos generados\n",
    "    df = pd.DataFrame(data, columns=['quantityOrdered', 'priceEach', 'productLine'])\n",
    "    \n",
    "    return df\n",
    "\n",
    "# Generar el DataFrame con 100 registros\n",
    "df = generate_data(100)\n",
    "\n",
    "# Mostrar las primeras filas del DataFrame\n",
    "print(df.head())\n",
    "\n",
    "# Guardar el DataFrame en un archivo CSV\n",
    "df.to_csv('simulated_sales_data.csv', index=False)\n"
   ]
  }
 ],
 "metadata": {
  "kernelspec": {
   "display_name": "cudf_env",
   "language": "python",
   "name": "python3"
  },
  "language_info": {
   "codemirror_mode": {
    "name": "ipython",
    "version": 3
   },
   "file_extension": ".py",
   "mimetype": "text/x-python",
   "name": "python",
   "nbconvert_exporter": "python",
   "pygments_lexer": "ipython3",
   "version": "3.10.15"
  }
 },
 "nbformat": 4,
 "nbformat_minor": 2
}
