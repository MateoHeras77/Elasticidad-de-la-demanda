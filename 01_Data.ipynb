{
 "cells": [
  {
   "cell_type": "code",
   "execution_count": 2,
   "metadata": {},
   "outputs": [],
   "source": [
    "import mysql.connector\n",
    "import pandas as pd\n",
    "import numpy as np\n",
    "import statsmodels.api as sm\n"
   ]
  },
  {
   "cell_type": "code",
   "execution_count": 5,
   "metadata": {},
   "outputs": [],
   "source": [
    "# Conectar a la base de datos MySQL\n",
    "db_connection = mysql.connector.connect(\n",
    "    host=\"localhost\",  # Dirección del servidor, si es remoto usa la IP o URL\n",
    "    user=\"root\",  # Tu nombre de usuario en MySQL\n",
    "    password=\"Y26CIYuzhveqKf\",  # Tu contraseña en MySQL\n",
    "    database=\"classicmodels\"  # El nombre de tu base de datos\n",
    ")\n",
    "\n",
    "# Crear un cursor para ejecutar las consultas\n",
    "cursor = db_connection.cursor()\n"
   ]
  },
  {
   "cell_type": "code",
   "execution_count": 6,
   "metadata": {},
   "outputs": [],
   "source": [
    "\n",
    "# Crear un cursor para ejecutar las consultas\n",
    "cursor = db_connection.cursor()\n",
    "\n",
    "# Ejecutar la consulta SELECT\n",
    "query = \"\"\"\n",
    "SELECT orders.orderDate, orderdetails.*,products.*\n",
    "FROM orderdetails\n",
    "JOIN products ON products.productCode = orderdetails.productCode\n",
    "JOIN orders ON orders.orderNumber = orderdetails.orderNumber\n",
    "ORDER BY orderdetails.orderNumber;\n",
    "\"\"\"\n",
    "cursor.execute(query)\n",
    "\n",
    "# Obtener los resultados\n",
    "results = cursor.fetchall()\n",
    "\n",
    "# Obtener los nombres de las columnas (opcional)\n",
    "columns = [column[0] for column in cursor.description]\n",
    "\n",
    "# Convertir los resultados en un DataFrame de pandas\n",
    "df_sql = pd.DataFrame(results, columns=columns)\n",
    "\n",
    "# Mostrar el DataFrame\n",
    "df_sql.head()\n",
    "\n",
    "# Cerrar la conexión\n",
    "cursor.close()\n",
    "db_connection.close()"
   ]
  },
  {
   "cell_type": "code",
   "execution_count": 11,
   "metadata": {},
   "outputs": [],
   "source": [
    "df_sql['orderDate'] = pd.to_datetime(df_sql['orderDate'], format='%Y-%m-%d')\n"
   ]
  },
  {
   "cell_type": "code",
   "execution_count": 12,
   "metadata": {},
   "outputs": [
    {
     "data": {
      "text/plain": [
       "orderDate    datetime64[ns]\n",
       "dtype: object"
      ]
     },
     "execution_count": 12,
     "metadata": {},
     "output_type": "execute_result"
    }
   ],
   "source": [
    "df_sql [['orderDate']].dtypes"
   ]
  },
  {
   "cell_type": "code",
   "execution_count": 13,
   "metadata": {},
   "outputs": [
    {
     "data": {
      "text/html": [
       "<div>\n",
       "<style scoped>\n",
       "    .dataframe tbody tr th:only-of-type {\n",
       "        vertical-align: middle;\n",
       "    }\n",
       "\n",
       "    .dataframe tbody tr th {\n",
       "        vertical-align: top;\n",
       "    }\n",
       "\n",
       "    .dataframe thead th {\n",
       "        text-align: right;\n",
       "    }\n",
       "</style>\n",
       "<table border=\"1\" class=\"dataframe\">\n",
       "  <thead>\n",
       "    <tr style=\"text-align: right;\">\n",
       "      <th></th>\n",
       "      <th>orderDate</th>\n",
       "    </tr>\n",
       "  </thead>\n",
       "  <tbody>\n",
       "    <tr>\n",
       "      <th>0</th>\n",
       "      <td>2003-01-06</td>\n",
       "    </tr>\n",
       "    <tr>\n",
       "      <th>1</th>\n",
       "      <td>2003-01-06</td>\n",
       "    </tr>\n",
       "    <tr>\n",
       "      <th>2</th>\n",
       "      <td>2003-01-06</td>\n",
       "    </tr>\n",
       "    <tr>\n",
       "      <th>3</th>\n",
       "      <td>2003-01-06</td>\n",
       "    </tr>\n",
       "    <tr>\n",
       "      <th>4</th>\n",
       "      <td>2003-01-09</td>\n",
       "    </tr>\n",
       "    <tr>\n",
       "      <th>...</th>\n",
       "      <td>...</td>\n",
       "    </tr>\n",
       "    <tr>\n",
       "      <th>2991</th>\n",
       "      <td>2005-05-31</td>\n",
       "    </tr>\n",
       "    <tr>\n",
       "      <th>2992</th>\n",
       "      <td>2005-05-31</td>\n",
       "    </tr>\n",
       "    <tr>\n",
       "      <th>2993</th>\n",
       "      <td>2005-05-31</td>\n",
       "    </tr>\n",
       "    <tr>\n",
       "      <th>2994</th>\n",
       "      <td>2005-05-31</td>\n",
       "    </tr>\n",
       "    <tr>\n",
       "      <th>2995</th>\n",
       "      <td>2005-05-31</td>\n",
       "    </tr>\n",
       "  </tbody>\n",
       "</table>\n",
       "<p>2996 rows × 1 columns</p>\n",
       "</div>"
      ],
      "text/plain": [
       "      orderDate\n",
       "0    2003-01-06\n",
       "1    2003-01-06\n",
       "2    2003-01-06\n",
       "3    2003-01-06\n",
       "4    2003-01-09\n",
       "...         ...\n",
       "2991 2005-05-31\n",
       "2992 2005-05-31\n",
       "2993 2005-05-31\n",
       "2994 2005-05-31\n",
       "2995 2005-05-31\n",
       "\n",
       "[2996 rows x 1 columns]"
      ]
     },
     "execution_count": 13,
     "metadata": {},
     "output_type": "execute_result"
    }
   ],
   "source": [
    "df_sql [['orderDate']]"
   ]
  },
  {
   "cell_type": "code",
   "execution_count": 14,
   "metadata": {},
   "outputs": [],
   "source": [
    "df_sql.to_csv('data_v2.csv', index=False)"
   ]
  },
  {
   "cell_type": "code",
   "execution_count": 15,
   "metadata": {},
   "outputs": [],
   "source": [
    "df=pd.read_csv('data_v2.csv')"
   ]
  },
  {
   "cell_type": "code",
   "execution_count": 17,
   "metadata": {},
   "outputs": [
    {
     "data": {
      "text/plain": [
       "orderDate             datetime64[ns]\n",
       "orderNumber                    int64\n",
       "productCode                   object\n",
       "quantityOrdered                int64\n",
       "priceEach                     object\n",
       "orderLineNumber                int64\n",
       "productCode                   object\n",
       "productName                   object\n",
       "productLine                   object\n",
       "productScale                  object\n",
       "productVendor                 object\n",
       "productDescription            object\n",
       "quantityInStock                int64\n",
       "buyPrice                      object\n",
       "MSRP                          object\n",
       "dtype: object"
      ]
     },
     "execution_count": 17,
     "metadata": {},
     "output_type": "execute_result"
    }
   ],
   "source": [
    "df_sql.dtypes"
   ]
  },
  {
   "cell_type": "markdown",
   "metadata": {},
   "source": [
    "# Data Simulada"
   ]
  },
  {
   "cell_type": "code",
   "execution_count": 1,
   "metadata": {},
   "outputs": [
    {
     "name": "stdout",
     "output_type": "stream",
     "text": [
      "   quantityOrdered  priceEach   productLine\n",
      "0              271      84.72  Herramientas\n",
      "1              147     270.04       Muebles\n",
      "2              531      32.31      Juguetes\n",
      "3              768      26.73          Ropa\n",
      "4             2356      31.74          Ropa\n"
     ]
    }
   ],
   "source": [
    "import pandas as pd\n",
    "import random\n",
    "import numpy as np\n",
    "\n",
    "# Definir las líneas de productos y sus precios promedio\n",
    "product_lines = ['Tecnología', 'Electrodomésticos', 'Muebles', 'Ropa', 'Juguetes', 'Herramientas']\n",
    "avg_prices = {\n",
    "    'Tecnología': 500,     # Precio promedio para tecnología (más caro)\n",
    "    'Electrodomésticos': 150,\n",
    "    'Muebles': 300,\n",
    "    'Ropa': 30,            # Ropa es más barata\n",
    "    'Juguetes': 40,\n",
    "    'Herramientas': 80\n",
    "}\n",
    "\n",
    "# Definir el rango de cantidades pedidas basado en la línea de producto\n",
    "quantity_ranges = {\n",
    "    'Tecnología': (50, 200),      # Menor demanda, pero artículos caros\n",
    "    'Electrodomésticos': (100, 500),\n",
    "    'Muebles': (80, 300),\n",
    "    'Ropa': (500, 3000),          # Gran demanda por ser barato\n",
    "    'Juguetes': (200, 1000),\n",
    "    'Herramientas': (100, 700)\n",
    "}\n",
    "\n",
    "# Función para simular los datos\n",
    "def generate_data(num_records=100):\n",
    "    data = []\n",
    "    \n",
    "    for _ in range(num_records):\n",
    "        # Elegir una línea de producto aleatoria\n",
    "        product_line = random.choice(product_lines)\n",
    "        \n",
    "        # Determinar la cantidad pedida dentro del rango de la línea de producto\n",
    "        quantity_ordered = random.randint(*quantity_ranges[product_line])\n",
    "        \n",
    "        # Obtener el precio promedio de esa línea de producto y agregar una variabilidad\n",
    "        price_each = avg_prices[product_line] * np.random.uniform(0.8, 1.2)\n",
    "        \n",
    "        # Agregar los datos al listado\n",
    "        data.append([quantity_ordered, round(price_each, 2), product_line])\n",
    "    \n",
    "    # Crear un DataFrame con los datos generados\n",
    "    df = pd.DataFrame(data, columns=['quantityOrdered', 'priceEach', 'productLine'])\n",
    "    \n",
    "    return df\n",
    "\n",
    "# Generar el DataFrame con 100 registros\n",
    "df = generate_data(100)\n",
    "\n",
    "# Mostrar las primeras filas del DataFrame\n",
    "print(df.head())\n",
    "\n",
    "# Guardar el DataFrame en un archivo CSV\n",
    "df.to_csv('simulated_sales_data.csv', index=False)\n"
   ]
  }
 ],
 "metadata": {
  "kernelspec": {
   "display_name": "cudf_env",
   "language": "python",
   "name": "python3"
  },
  "language_info": {
   "codemirror_mode": {
    "name": "ipython",
    "version": 3
   },
   "file_extension": ".py",
   "mimetype": "text/x-python",
   "name": "python",
   "nbconvert_exporter": "python",
   "pygments_lexer": "ipython3",
   "version": "3.10.15"
  }
 },
 "nbformat": 4,
 "nbformat_minor": 2
}
